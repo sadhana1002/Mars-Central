{
 "cells": [
  {
   "cell_type": "code",
   "execution_count": 3,
   "metadata": {
    "collapsed": true
   },
   "outputs": [],
   "source": [
    "from splinter import Browser\n",
    "from bs4 import BeautifulSoup\n",
    "import pymongo\n",
    "import requests\n",
    "import pandas as pd"
   ]
  },
  {
   "cell_type": "code",
   "execution_count": 2,
   "metadata": {},
   "outputs": [],
   "source": [
    "# browser = Browser('chrome',headless=False)\n",
    "def init_browser():\n",
    "    chrome_location = \"C:\\\\Users\\\\ssank\\\\chromedriver_win32\\\\chromedriver.exe\"\n",
    "    chrome_location = chrome_location.replace(\"\\\\\",\"/\")\n",
    "    executable_path = {\"executable_path\":chrome_location}\n",
    "    \n",
    "    return Browser(\"chrome\", **executable_path, headless=False)"
   ]
  },
  {
   "cell_type": "code",
   "execution_count": null,
   "metadata": {},
   "outputs": [],
   "source": [
    "def get_latest_NASA_news():\n",
    "    browser = init_browser()\n",
    "    NASA_MARS_url = \"https://mars.nasa.gov/news/\"\n",
    "    browser.visit(NASA_MARS_url)\n",
    "    news_soup = BeautifulSoup(browser.html,\"lxml\")\n",
    "    latest_news = news_soup.find_all(\"div\",{\"class\":\"list_text\"})[0]\n",
    "    \n",
    "    return {\n",
    "        \"news-title\":latest_news.find(\"div\",{\"class\":\"content_title\"}).text,\n",
    "        \"news-content\":latest_news.find(\"div\",{\"class\":\"article_teaser_body\"}).text\n",
    "    }    "
   ]
  },
  {
   "cell_type": "code",
   "execution_count": null,
   "metadata": {},
   "outputs": [],
   "source": [
    "def get_MARS_img():\n",
    "    browser = init_browser()\n",
    "    JPL_home_url = \"https://www.jpl.nasa.gov\"\n",
    "    JPL_img_url = JPL_home_url+\"/spaceimages/?search=&category=Mars\"\n",
    "    browser.visit(JPL_img_url)\n",
    "    jpl_soup = BeautifulSoup(browser.html,\"html.parser\")\n",
    "    items = jpl_soup.find(\"div\",{\"class\":\"carousel_items\"})\n",
    "    img_title = items.find(\"h1\",{\"class\":\"media_feature_title\"})\n",
    "    featured_img = items.find(\"article\")\n",
    "    img_url = JPL_home_url+featured_img['style'].split(':')[1].split('\\'')[1]\n",
    "    response = requests.get(img_url, stream=True)\n",
    "    featured_img_name = img_title.text.strip(' \\t\\n\\r')+\".jpg\"\n",
    "    if response.status_code == 200:\n",
    "        with open(featured_img_name, 'wb') as f:\n",
    "            f.write(response.content)\n",
    "            \n",
    "    return {\n",
    "            \"title\":img_title,\n",
    "            \"img_filename\":featured_img_name\n",
    "           }"
   ]
  },
  {
   "cell_type": "code",
   "execution_count": null,
   "metadata": {},
   "outputs": [],
   "source": [
    "def get_MARS_temperature():\n",
    "    browser = init_browser()\n",
    "    twitter_report_url = \"https://twitter.com/marswxreport?lang=en\"\n",
    "    browser.visit(twitter_report_url)\n",
    "    temp_soup = BeautifulSoup(browser.html,\"html.parser\")\n",
    "    \n",
    "    return temp_soup.find(\"ol\",{\"id\":\"stream-items-id\"}).find(\"li\").find(\"p\").text"
   ]
  },
  {
   "cell_type": "code",
   "execution_count": 15,
   "metadata": {},
   "outputs": [],
   "source": [
    "def get_MARS_facts():\n",
    "    df = pd.read_html(\"https://space-facts.com/mars/\")[0]\n",
    "    df = df.rename(columns={0:\"Description\",1:\"Value\"})\n",
    "    \n",
    "    return df.to_html()\n"
   ]
  },
  {
   "cell_type": "code",
   "execution_count": null,
   "metadata": {
    "collapsed": true
   },
   "outputs": [],
   "source": []
  }
 ],
 "metadata": {
  "kernelspec": {
   "display_name": "Python 3",
   "language": "python",
   "name": "python3"
  },
  "language_info": {
   "codemirror_mode": {
    "name": "ipython",
    "version": 3
   },
   "file_extension": ".py",
   "mimetype": "text/x-python",
   "name": "python",
   "nbconvert_exporter": "python",
   "pygments_lexer": "ipython3",
   "version": "3.6.2"
  }
 },
 "nbformat": 4,
 "nbformat_minor": 2
}
