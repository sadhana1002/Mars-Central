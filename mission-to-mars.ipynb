{
 "cells": [
  {
   "cell_type": "code",
   "execution_count": 1,
   "metadata": {
    "collapsed": true
   },
   "outputs": [],
   "source": [
    "from splinter import Browser\n",
    "from bs4 import BeautifulSoup\n",
    "import pymongo\n",
    "import requests\n",
    "import pandas as pd\n",
    "import time"
   ]
  },
  {
   "cell_type": "code",
   "execution_count": 2,
   "metadata": {
    "collapsed": true
   },
   "outputs": [],
   "source": [
    "def init_browser():\n",
    "    chrome_location = \"C:\\\\Users\\\\ssank\\\\chromedriver_win32\\\\chromedriver.exe\"\n",
    "    chrome_location = chrome_location.replace(\"\\\\\",\"/\")\n",
    "    executable_path = {\"executable_path\":chrome_location}\n",
    "    \n",
    "    return Browser(\"chrome\", **executable_path, headless=False)"
   ]
  },
  {
   "cell_type": "code",
   "execution_count": 3,
   "metadata": {
    "collapsed": true
   },
   "outputs": [],
   "source": [
    "def get_soup_object(url):\n",
    "    browser = init_browser()\n",
    "    browser.visit(url)\n",
    "    soup = BeautifulSoup(browser.html,\"html.parser\")\n",
    "    return soup"
   ]
  },
  {
   "cell_type": "code",
   "execution_count": 4,
   "metadata": {
    "collapsed": true
   },
   "outputs": [],
   "source": [
    "def get_latest_NASA_news():\n",
    "    NASA_MARS_url = \"https://mars.nasa.gov/news/\"\n",
    "    news_soup = get_soup_object(NASA_MARS_url)\n",
    "    latest_news = news_soup.find_all(\"div\",{\"class\":\"list_text\"})[0]\n",
    "    return {\n",
    "        \"news-title\":latest_news.find(\"div\",{\"class\":\"content_title\"}).text,\n",
    "        \"news-content\":latest_news.find(\"div\",{\"class\":\"article_teaser_body\"}).text\n",
    "    }    "
   ]
  },
  {
   "cell_type": "code",
   "execution_count": 5,
   "metadata": {
    "collapsed": true
   },
   "outputs": [],
   "source": [
    "def get_MARS_img():\n",
    "    JPL_home_url = \"https://www.jpl.nasa.gov\"\n",
    "    JPL_img_url = JPL_home_url+\"/spaceimages/?search=&category=Mars\"\n",
    "    jpl_soup = get_soup_object(JPL_img_url)\n",
    "    items = jpl_soup.find(\"div\",{\"class\":\"carousel_items\"})\n",
    "    img_title = items.find(\"h1\",{\"class\":\"media_feature_title\"})\n",
    "    featured_img = items.find(\"article\")\n",
    "    img_url = JPL_home_url+featured_img['style'].split(':')[1].split('\\'')[1]\n",
    "    return {\n",
    "            \"title\":img_title,\n",
    "            \"img_url\":img_url\n",
    "           }"
   ]
  },
  {
   "cell_type": "code",
   "execution_count": 6,
   "metadata": {
    "collapsed": true
   },
   "outputs": [],
   "source": [
    "def get_MARS_temperature():\n",
    "    twitter_report_url = \"https://twitter.com/marswxreport?lang=en\"\n",
    "    temp_soup = get_soup_object(twitter_report_url)\n",
    "    return temp_soup.find(\"ol\",{\"id\":\"stream-items-id\"}).find(\"li\").find(\"p\").text"
   ]
  },
  {
   "cell_type": "code",
   "execution_count": 7,
   "metadata": {
    "collapsed": true
   },
   "outputs": [],
   "source": [
    "def get_MARS_facts():\n",
    "    df = pd.read_html(\"https://space-facts.com/mars/\")[0]\n",
    "    df = df.rename(columns={0:\"Description\",1:\"Value\"})\n",
    "    return df.to_dict()"
   ]
  },
  {
   "cell_type": "code",
   "execution_count": 13,
   "metadata": {},
   "outputs": [],
   "source": [
    "def get_MARS_hemisphere_data():\n",
    "    browser = init_browser()\n",
    "    hemispheres_url = \"https://astrogeology.usgs.gov/search/results?q=hemisphere+enhanced&k1=target&v1=Mars\"\n",
    "    browser.visit(hemispheres_url)\n",
    "    hms_soup = BeautifulSoup(browser.html,\"html.parser\")\n",
    "    items = hms_soup.find(\"div\",{\"id\":\"product-section\"}).find_all(\"div\",{\"class\":\"item\"})\n",
    "\n",
    "    hemisphere_data = []\n",
    "\n",
    "    for item in items:\n",
    "        img_main_url = \"https://astrogeology.usgs.gov\"+item.find(\"a\")[\"href\"]\n",
    "        img_title = item.find(\"div\",{\"class\":\"description\"}).find(\"a\").find(\"h3\").text\n",
    "        browser.visit(img_main_url)\n",
    "        time.sleep(1)\n",
    "        img_soup = BeautifulSoup(browser.html,\"html.parser\")\n",
    "        download_item = img_soup.find(\"div\",{\"class\":\"downloads\"})\n",
    "        hemisphere_item = {\n",
    "            \"title\":img_title,\n",
    "            \"img_url\": download_item.find(\"li\").find(\"a\")[\"href\"]\n",
    "        }\n",
    "        hemisphere_data.append(hemisphere_item)\n",
    "        \n",
    "    return hemisphere_data\n",
    "    "
   ]
  },
  {
   "cell_type": "code",
   "execution_count": 14,
   "metadata": {
    "collapsed": true
   },
   "outputs": [],
   "source": [
    "def scrape():\n",
    "    mars_news = get_latest_NASA_news()\n",
    "    mars_img = get_MARS_img()\n",
    "    mars_facts = get_MARS_facts()\n",
    "    mars_temp = get_MARS_temperature()\n",
    "    mars_hm_data = get_MARS_hemisphere_data()\n",
    "    return {\n",
    "        \"news\":mars_news,\n",
    "        \"featured_img\":mars_img,\n",
    "        \"facts\":mars_facts,\n",
    "        \"temperature\":mars_temp,\n",
    "        \"hemisphere_data\":mars_hm_data\n",
    "    }\n",
    "    "
   ]
  },
  {
   "cell_type": "code",
   "execution_count": 15,
   "metadata": {},
   "outputs": [
    {
     "data": {
      "text/plain": [
       "{'facts': {'Description': {0: 'Equatorial Diameter:',\n",
       "   1: 'Polar Diameter:',\n",
       "   2: 'Mass:',\n",
       "   3: 'Moons:',\n",
       "   4: 'Orbit Distance:',\n",
       "   5: 'Orbit Period:',\n",
       "   6: 'Surface Temperature:',\n",
       "   7: 'First Record:',\n",
       "   8: 'Recorded By:'},\n",
       "  'Value': {0: '6,792 km',\n",
       "   1: '6,752 km',\n",
       "   2: '6.42 x 10^23 kg (10.7% Earth)',\n",
       "   3: '2 (Phobos & Deimos)',\n",
       "   4: '227,943,824 km (1.52 AU)',\n",
       "   5: '687 days (1.9 years)',\n",
       "   6: '-153 to 20 °C',\n",
       "   7: '2nd millennium BC',\n",
       "   8: 'Egyptian astronomers'}},\n",
       " 'featured_img': {'img_url': 'https://www.jpl.nasa.gov/spaceimages/images/wallpaper/PIA17044-1920x1200.jpg',\n",
       "  'title': <h1 class=\"media_feature_title\">\n",
       "  \t\t\t\t  Two Looks at the Turbulent Saturn Storm\t\t\t\t</h1>},\n",
       " 'hemisphere_data': [{'img_url': 'http://astropedia.astrogeology.usgs.gov/download/Mars/Viking/cerberus_enhanced.tif/full.jpg',\n",
       "   'title': 'Cerberus Hemisphere Enhanced'},\n",
       "  {'img_url': 'http://astropedia.astrogeology.usgs.gov/download/Mars/Viking/schiaparelli_enhanced.tif/full.jpg',\n",
       "   'title': 'Schiaparelli Hemisphere Enhanced'},\n",
       "  {'img_url': 'http://astropedia.astrogeology.usgs.gov/download/Mars/Viking/syrtis_major_enhanced.tif/full.jpg',\n",
       "   'title': 'Syrtis Major Hemisphere Enhanced'},\n",
       "  {'img_url': 'http://astropedia.astrogeology.usgs.gov/download/Mars/Viking/valles_marineris_enhanced.tif/full.jpg',\n",
       "   'title': 'Valles Marineris Hemisphere Enhanced'}],\n",
       " 'news': {'news-content': \"Researchers using NASA's Mars Reconnaissance Orbiter have found eight sites where thick deposits of ice beneath Mars' surface are exposed.\",\n",
       "  'news-title': 'Steep Slopes on Mars Reveal Structure of Buried Ice'},\n",
       " 'temperature': 'Sol 1937 (Jan 17, 2018), Sunny, high -22C/-7F, low -80C/-112F, pressure at 7.63 hPa, daylight 05:45-17:29'}"
      ]
     },
     "execution_count": 15,
     "metadata": {},
     "output_type": "execute_result"
    }
   ],
   "source": [
    "scrape()"
   ]
  },
  {
   "cell_type": "code",
   "execution_count": null,
   "metadata": {
    "collapsed": true
   },
   "outputs": [],
   "source": []
  }
 ],
 "metadata": {
  "kernelspec": {
   "display_name": "Python 3",
   "language": "python",
   "name": "python3"
  },
  "language_info": {
   "codemirror_mode": {
    "name": "ipython",
    "version": 3
   },
   "file_extension": ".py",
   "mimetype": "text/x-python",
   "name": "python",
   "nbconvert_exporter": "python",
   "pygments_lexer": "ipython3",
   "version": "3.6.2"
  }
 },
 "nbformat": 4,
 "nbformat_minor": 2
}
